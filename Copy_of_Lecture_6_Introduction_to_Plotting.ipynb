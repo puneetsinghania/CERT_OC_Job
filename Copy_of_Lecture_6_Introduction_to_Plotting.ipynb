{
  "cells": [
    {
      "cell_type": "code",
      "execution_count": null,
      "metadata": {
        "id": "dct9RYtlFraY"
      },
      "outputs": [],
      "source": [
        "import pandas as pd\n",
        "import plotly.graph_objects as go\n",
        "import os\n",
        "os.chdir(\"/home/luisfernando/Git Code/CE-CERT Plot Training\")\n",
        "df = pd.read_excel(\"water_district_clean_data.xlsx\")\n",
        "df"
      ]
    },
    {
      "cell_type": "code",
      "execution_count": null,
      "metadata": {
        "id": "l3BMj9kSFraZ"
      },
      "outputs": [],
      "source": [
        "df.dtypes"
      ]
    },
    {
      "cell_type": "markdown",
      "metadata": {
        "id": "qgTnfsmGFraa"
      },
      "source": [
        "Basic Plotting"
      ]
    },
    {
      "cell_type": "code",
      "execution_count": null,
      "metadata": {
        "id": "5aKjCwRoFrab"
      },
      "outputs": [],
      "source": [
        "# Define the figure\n",
        "fig = go.Figure()\n",
        "# Add data to figure\n",
        "fig.add_trace(go.Scatter(x=df.Date, y=df.Demand))\n",
        "fig.show()"
      ]
    },
    {
      "cell_type": "markdown",
      "metadata": {
        "id": "c_p5BAm5Frab"
      },
      "source": [
        "Add Title"
      ]
    },
    {
      "cell_type": "code",
      "execution_count": null,
      "metadata": {
        "id": "hDNZ0K1pFrab"
      },
      "outputs": [],
      "source": [
        "# Define the figure\n",
        "fig = go.Figure()\n",
        "# Add data to figure\n",
        "fig.add_trace(go.Scatter(x=df.Date, y=df.Demand))\n",
        "# Add additonal properties to the plot\n",
        "fig.update_layout(\n",
        "    title=go.layout.Title(\n",
        "        text= \"Title\", # Insert Title Here\n",
        "        xref=\"paper\",\n",
        "        x=0\n",
        "    )\n",
        ")\n",
        "fig.show()"
      ]
    },
    {
      "cell_type": "markdown",
      "metadata": {
        "id": "7Brww_bMFrac"
      },
      "source": [
        "Center Title"
      ]
    },
    {
      "cell_type": "code",
      "execution_count": null,
      "metadata": {
        "id": "o_eLPdwyFrac"
      },
      "outputs": [],
      "source": [
        "# Define the figure\n",
        "fig = go.Figure()\n",
        "# Add data to figure\n",
        "fig.add_trace(go.Scatter(x=df.Date, y=df.Demand))\n",
        "# Add additonal properties to the plot\n",
        "fig.update_layout(\n",
        "    title=go.layout.Title(\n",
        "        text= \"Title\", # Insert Title Here\n",
        "        xref=\"paper\",\n",
        "        x=0.5\n",
        "    )\n",
        ")\n",
        "fig.show()"
      ]
    },
    {
      "cell_type": "markdown",
      "metadata": {
        "id": "Uqzpf2o-Frac"
      },
      "source": [
        "Add Y-Axis"
      ]
    },
    {
      "cell_type": "code",
      "execution_count": null,
      "metadata": {
        "id": "TlSlugQJFrad"
      },
      "outputs": [],
      "source": [
        "# Define the figure\n",
        "fig = go.Figure()\n",
        "# Add data to figure\n",
        "fig.add_trace(go.Scatter(x=df.Date, y=df.Demand))\n",
        "# Add additonal properties to the plot\n",
        "fig.update_layout(\n",
        "    title=go.layout.Title(\n",
        "        text= \"Title\", # Insert Title Here\n",
        "        xref=\"paper\",\n",
        "        x=0.5\n",
        "    ),\n",
        "    yaxis=go.layout.YAxis(\n",
        "        title=go.layout.yaxis.Title(\n",
        "            text=\"Demand (kW)\",\n",
        "        )\n",
        "    )\n",
        ")\n",
        "fig.show()"
      ]
    },
    {
      "cell_type": "markdown",
      "metadata": {
        "id": "AvBqaApBFrad"
      },
      "source": [
        "Add X-Axis and Range Slider"
      ]
    },
    {
      "cell_type": "code",
      "execution_count": null,
      "metadata": {
        "id": "pm7dnS_UFrad"
      },
      "outputs": [],
      "source": [
        "# Define the figure\n",
        "fig = go.Figure()\n",
        "# Add data to figure\n",
        "fig.add_trace(go.Scatter(x=df.Date, y=df.Demand))\n",
        "# Add additonal properties to the plot\n",
        "fig.update_layout(\n",
        "    title=go.layout.Title(\n",
        "        text= \"Title\", # Insert Title Here\n",
        "        xref=\"paper\",\n",
        "        x=0.5\n",
        "    ),\n",
        "    xaxis=go.layout.XAxis(\n",
        "        title=go.layout.xaxis.Title(\n",
        "            text=\"Time\",\n",
        "        ),\n",
        "        rangeslider=dict(\n",
        "            visible=True\n",
        "        )\n",
        "    ),\n",
        "    yaxis=go.layout.YAxis(\n",
        "        title=go.layout.yaxis.Title(\n",
        "            text=\"Demand (kW)\",\n",
        "        )\n",
        "    )\n",
        ")\n",
        "fig.show()"
      ]
    },
    {
      "cell_type": "markdown",
      "metadata": {
        "id": "qa2OaQU_Frae"
      },
      "source": [
        "Plot Two Lines"
      ]
    },
    {
      "cell_type": "code",
      "execution_count": null,
      "metadata": {
        "id": "CXsdjfPmFrae"
      },
      "outputs": [],
      "source": [
        "# Define the figure\n",
        "fig = go.Figure()\n",
        "# Add data to figure\n",
        "fig.add_trace(go.Scatter(x= df.Date, y= df.Demand_1, name= \"Line 1\"))\n",
        "fig.add_trace(go.Scatter(x= df.Date, y=df.Demand_2, name= \"Line 2\"))\n",
        "# Add additonal properties to the plot\n",
        "fig.update_layout(\n",
        "    title=go.layout.Title(\n",
        "        text= \"Title\", # Insert Title Here\n",
        "        xref=\"paper\",\n",
        "        x=0.5\n",
        "    ),\n",
        "    xaxis=go.layout.XAxis(\n",
        "        title=go.layout.xaxis.Title(\n",
        "            text=\"Time\",\n",
        "        ),\n",
        "        rangeslider=dict(\n",
        "            visible=True\n",
        "        )\n",
        "    ),\n",
        "    yaxis=go.layout.YAxis(\n",
        "        title=go.layout.yaxis.Title(\n",
        "            text=\"Demand (kW)\",\n",
        "        )\n",
        "    )\n",
        ")\n",
        "fig.show()"
      ]
    },
    {
      "cell_type": "markdown",
      "metadata": {
        "id": "qV91N4eHFrae"
      },
      "source": [
        "Make Plot into a function"
      ]
    },
    {
      "cell_type": "code",
      "execution_count": null,
      "metadata": {
        "id": "Z3mq3cJgFrae"
      },
      "outputs": [],
      "source": [
        "def plot_graph(x_data, y_data, line_name, title, x_title, y_title):\n",
        "    # Define the figure\n",
        "    fig = go.Figure()\n",
        "    # Add data to figure\n",
        "    for i in range(0, len(x_data), 1):\n",
        "        fig.add_trace(go.Scatter(x=x_data[i], y=y_data[i], name= line_name[i]))\n",
        "\n",
        "    # Create Layout for the Html\n",
        "\n",
        "    fig.update_layout(\n",
        "        title=go.layout.Title(\n",
        "            text= title,\n",
        "            xref=\"paper\",\n",
        "            x=0.5\n",
        "        ),\n",
        "        xaxis=go.layout.XAxis(\n",
        "            title=go.layout.xaxis.Title(\n",
        "                text=x_title,\n",
        "            ),\n",
        "            rangeslider=dict(\n",
        "                visible=True\n",
        "            )\n",
        "        ),\n",
        "        yaxis=go.layout.YAxis(\n",
        "            title=go.layout.yaxis.Title(\n",
        "                text=y_title,\n",
        "            )\n",
        "        )\n",
        "    )\n",
        "    fig.show()"
      ]
    },
    {
      "cell_type": "markdown",
      "metadata": {
        "id": "0vWg1kmdFraf"
      },
      "source": [
        "Run the Function"
      ]
    },
    {
      "cell_type": "code",
      "execution_count": null,
      "metadata": {
        "id": "JjixtqEZFraf"
      },
      "outputs": [],
      "source": [
        "x_data = [df.Date] * 2\n",
        "y_data = [df.Demand_1, df.Demand_2]\n",
        "line_name = [\"Line 1\", \"Line 2\"]\n",
        "title = \"title\"\n",
        "x_title = \"Time\"\n",
        "y_title = \"Demand\"\n",
        "plot_graph(x_data, y_data, line_name, title, x_title, y_title)"
      ]
    },
    {
      "cell_type": "markdown",
      "metadata": {
        "id": "0L9mv8NPFraf"
      },
      "source": [
        "From Lecture 3, Get monthly Dataframes"
      ]
    },
    {
      "cell_type": "code",
      "execution_count": null,
      "metadata": {
        "id": "7HGoXecgFraf"
      },
      "outputs": [],
      "source": [
        "df2 = pd.read_excel(\"random_time_data.xlsx\")\n",
        "billing = pd.read_excel(\"billing_month.xlsx\")\n",
        "df2"
      ]
    },
    {
      "cell_type": "code",
      "execution_count": null,
      "metadata": {
        "id": "tJUr_fTsFrag"
      },
      "outputs": [],
      "source": [
        "billing"
      ]
    },
    {
      "cell_type": "code",
      "execution_count": null,
      "metadata": {
        "id": "B3wvRKe0Frag"
      },
      "outputs": [],
      "source": [
        "billMonth = billing.billing_month\n",
        "offset = pd.DateOffset(minutes=15)\n",
        "month = {}\n",
        "monthLength = len(billMonth) - 1\n",
        "for i in range (0,monthLength,1):\n",
        "    end = billMonth[i + 1] - offset\n",
        "    month[i] = df2[df2.Timestamp.between(billMonth[i], end)]\n",
        "month"
      ]
    },
    {
      "cell_type": "code",
      "execution_count": null,
      "metadata": {
        "id": "CbTmZ8EdFrag"
      },
      "outputs": [],
      "source": [
        "x_data = [df2.Timestamp]\n",
        "y_data = [df2.Demand]\n",
        "line_name = [\"Line 1\"]\n",
        "title = \"Random Time Data\"\n",
        "x_title = \"Time\"\n",
        "y_title = \"Demand\"\n",
        "plot_graph(x_data, y_data, line_name, title, x_title, y_title)"
      ]
    },
    {
      "cell_type": "markdown",
      "metadata": {
        "id": "DOTcu0riFrag"
      },
      "source": [
        "Get Monthly Title"
      ]
    },
    {
      "cell_type": "code",
      "execution_count": null,
      "metadata": {
        "id": "spjCJF_QFrag"
      },
      "outputs": [],
      "source": [
        "company_name = \"Fun Town Water District\"\n",
        "site_name = \"Ugly Factory\"\n",
        "plot_type = \"15 Minute Data\"\n",
        "account_number = 4224251997\n",
        "month_title = {}\n",
        "for i in range (0,len(month)):\n",
        "    month_title[i] = company_name + \"\\n\" + site_name + ' ' + plot_type +  \"\\nAccount Number: \" + str(account_number) + \" || From: \" +  month[i].Timestamp.min().strftime('%B %d, %Y') + \" to \" + month[i].Timestamp.max().strftime('%B %d, %Y')\n",
        "month_title"
      ]
    },
    {
      "cell_type": "markdown",
      "metadata": {
        "id": "jYGaDIwSFrah"
      },
      "source": [
        "Plot all the monthly Dataframes"
      ]
    },
    {
      "cell_type": "code",
      "execution_count": null,
      "metadata": {
        "scrolled": false,
        "id": "kECb5_VhFrah"
      },
      "outputs": [],
      "source": [
        "x_title = \"Time\"\n",
        "y_title = \"Demand (kW)\"\n",
        "line_name = [\"Demand\"]\n",
        "for i in range (0,len(month)):\n",
        "    x_data = [month[i].Timestamp]\n",
        "    y_data = [month[i].Demand]\n",
        "    title = month_title[i]\n",
        "    plot_graph(x_data, y_data, line_name, title, x_title, y_title)"
      ]
    },
    {
      "cell_type": "markdown",
      "metadata": {
        "id": "sXOmCE6HFrah"
      },
      "source": [
        "Adding <Br> is eqivalent /n in Html. When using Plotly, the plots are html, and so are the texts on the plots"
      ]
    },
    {
      "cell_type": "code",
      "execution_count": null,
      "metadata": {
        "id": "8ufbX6VHFrah"
      },
      "outputs": [],
      "source": [
        "company_name = \"Fun Town Water District\"\n",
        "site_name = \"Ugly Factory\"\n",
        "plot_type = \"15 Minute Data\"\n",
        "account_number = 4224251997\n",
        "month_title = {}\n",
        "for i in range (0,len(month)):\n",
        "    month_title[i] = company_name + \"<Br>\" + site_name + ' ' + plot_type +  \"<Br>Account Number: \" + str(account_number) + \" || From: \" +  month[i].Timestamp.min().strftime('%B %d, %Y') + \" to \" + month[i].Timestamp.max().strftime('%B %d, %Y')\n",
        "month_title"
      ]
    },
    {
      "cell_type": "code",
      "execution_count": null,
      "metadata": {
        "id": "gBlfgtshFrah"
      },
      "outputs": [],
      "source": [
        "x_title = \"Time\"\n",
        "y_title = \"Demand (kW)\"\n",
        "line_name = [\"Demand\"]\n",
        "for i in range (0,len(month)):\n",
        "    x_data = [month[i].Timestamp]\n",
        "    y_data = [month[i].Demand]\n",
        "    title = month_title[i]\n",
        "    plot_graph(x_data, y_data, line_name, title, x_title, y_title)"
      ]
    },
    {
      "cell_type": "markdown",
      "metadata": {
        "id": "OCOtCvvNFrai"
      },
      "source": [
        "Adding Support to define the colors"
      ]
    },
    {
      "cell_type": "code",
      "execution_count": null,
      "metadata": {
        "id": "sLJKuRYTFrai"
      },
      "outputs": [],
      "source": [
        "def plot_graph(x_data, y_data, line_name, title, x_title, y_title, line_color):\n",
        "    # Define the figure\n",
        "    fig = go.Figure()\n",
        "    # Add data to figure\n",
        "    for i in range(0, len(x_data), 1):\n",
        "        fig.add_trace(go.Scatter(x=x_data[i], y=y_data[i], name= line_name[i], line_color = line_color[i]))\n",
        "\n",
        "    # Create Layout for the Html\n",
        "\n",
        "    fig.update_layout(\n",
        "        title=go.layout.Title(\n",
        "            text= title,\n",
        "            xref=\"paper\",\n",
        "            x=0.5\n",
        "        ),\n",
        "        xaxis=go.layout.XAxis(\n",
        "            title=go.layout.xaxis.Title(\n",
        "                text=x_title,\n",
        "            ),\n",
        "            rangeslider=dict(\n",
        "                visible=True\n",
        "            )\n",
        "        ),\n",
        "        yaxis=go.layout.YAxis(\n",
        "            title=go.layout.yaxis.Title(\n",
        "                text=y_title,\n",
        "            )\n",
        "        )\n",
        "    )\n",
        "    fig.show()"
      ]
    },
    {
      "cell_type": "markdown",
      "metadata": {
        "id": "7xaPEFnUFrai"
      },
      "source": [
        "Ploty uses Html/CSS color naming conventions\n",
        "\n",
        "Look at these sites to picks the colors of your choosing\n",
        "\n",
        "https://www.w3schools.com/cssref/css_colors.asp\n",
        "\n",
        "https://www.w3schools.com/colors/colors_picker.asp"
      ]
    },
    {
      "cell_type": "code",
      "execution_count": null,
      "metadata": {
        "id": "PhH67QTGFrai"
      },
      "outputs": [],
      "source": [
        "x_title = \"Time\"\n",
        "y_title = \"Demand (kW)\"\n",
        "line_name = [\"Demand\"]\n",
        "line_color = [\"deepskyblue\"]\n",
        "for i in range (0,len(month)):\n",
        "    x_data = [month[i].Timestamp]\n",
        "    y_data = [month[i].Demand]\n",
        "    title = month_title[i]\n",
        "    plot_graph(x_data, y_data, line_name, title, x_title, y_title, line_color)"
      ]
    },
    {
      "cell_type": "markdown",
      "metadata": {
        "id": "gQx-9h8mFrai"
      },
      "source": [
        "Export graphs to Html\n",
        "\n",
        "fig.show() should only be used to inspect a plot\n",
        "\n",
        "A finished product should be exported as html\n",
        "\n",
        "Filenames need to be generated beforehand\n",
        "\n",
        "Use fig.write_html() to export graphs\n",
        "\n",
        "\n",
        "Use the format we want\n",
        "fig.write_html(file_title + 'html, include_mathjax='cdn')"
      ]
    },
    {
      "cell_type": "code",
      "execution_count": null,
      "metadata": {
        "id": "3kzLefjmFraj"
      },
      "outputs": [],
      "source": [
        "def plot_graph(x_data, y_data, line_name, title, x_title, y_title, filename, line_color, fig_show = False):\n",
        "    # Define the figure\n",
        "    fig = go.Figure()\n",
        "    # Add data to figure\n",
        "    for i in range(0, len(x_data), 1):\n",
        "        fig.add_trace(go.Scatter(x=x_data[i], y=y_data[i], name= line_name[i], line_color = line_color[i]))\n",
        "\n",
        "    # Create Layout for the Html\n",
        "\n",
        "    fig.update_layout(\n",
        "        title=go.layout.Title(\n",
        "            text= title,\n",
        "            xref=\"paper\",\n",
        "            x=0.5\n",
        "        ),\n",
        "        xaxis=go.layout.XAxis(\n",
        "            title=go.layout.xaxis.Title(\n",
        "                text=x_title,\n",
        "            ),\n",
        "            rangeslider=dict(\n",
        "                visible=True\n",
        "            )\n",
        "        ),\n",
        "        yaxis=go.layout.YAxis(\n",
        "            title=go.layout.yaxis.Title(\n",
        "                text=y_title,\n",
        "            )\n",
        "        )\n",
        "    )\n",
        "\n",
        "    fig.write_html((filename + '.html'), include_mathjax='cdn')\n",
        "    if fig_show:\n",
        "        fig.show()"
      ]
    },
    {
      "cell_type": "code",
      "execution_count": null,
      "metadata": {
        "id": "XyFBqP3OFraj"
      },
      "outputs": [],
      "source": [
        "company_name = \"Fun_Town_Water_District\"\n",
        "site_name = \"Ugly_Factory\"\n",
        "plot_type = \"15_Minute_Data\"\n",
        "filename_list = {}\n",
        "for i in range (0,len(month)):\n",
        "    filename_list[i] = str(i) + '_' + company_name + '_' + site_name+ '_' + plot_type + '_' + month[i].Timestamp.min().strftime('%b_%d_%Y') + \"_to_\" + month[i].Timestamp.max().strftime('%b_%d_%Y')\n",
        "filename_list"
      ]
    },
    {
      "cell_type": "code",
      "execution_count": null,
      "metadata": {
        "id": "_XSG-UScFraj"
      },
      "outputs": [],
      "source": [
        "# Change directory\n",
        "os.chdir(\"\")\n",
        "x_title = \"Time\"\n",
        "y_title = \"Demand (kW)\"\n",
        "line_name = [\"Demand\"]\n",
        "line_color = [\"deepskyblue\"]\n",
        "for i in range (0,len(month)):\n",
        "    x_data = [month[i].Timestamp]\n",
        "    y_data = [month[i].Demand]\n",
        "    title = month_title[i]\n",
        "    filename = filename_list[i]\n",
        "    plot_graph(x_data, y_data, line_name, title, x_title, y_title, filename, line_color)"
      ]
    },
    {
      "cell_type": "code",
      "execution_count": null,
      "metadata": {
        "id": "irHaxkDYFraj"
      },
      "outputs": [],
      "source": [
        "def plot_graph(x_data, y_data, line_name, title, x_title, y_title, filename, line_color, fig_show = False):\n",
        "    # Define the figure\n",
        "    fig = go.Figure()\n",
        "    # Add data to figure\n",
        "    for i in range(0, len(x_data), 1):\n",
        "        fig.add_trace(go.Scatter(x=x_data[i], y=y_data[i], name= line_name[i], line_color = line_color[i]))\n",
        "\n",
        "    # Create Layout for the Html\n",
        "\n",
        "    fig.update_layout(\n",
        "        title=go.layout.Title(\n",
        "            text= title,\n",
        "            xref=\"paper\",\n",
        "            x=0.5\n",
        "        ),\n",
        "        xaxis=go.layout.XAxis(\n",
        "            title=go.layout.xaxis.Title(\n",
        "                text=x_title,\n",
        "            ),\n",
        "            rangeslider=dict(\n",
        "                visible=True\n",
        "            )\n",
        "        ),\n",
        "        yaxis=go.layout.YAxis(\n",
        "            title=go.layout.yaxis.Title(\n",
        "                text=y_title,\n",
        "            )\n",
        "        )\n",
        "    )\n",
        "\n",
        "    fig.write_html((filename + '.html'), include_mathjax='cdn')\n",
        "    fig.write_image(filename + '.svg')\n",
        "    fig.write_image(filename + '.pdf')\n",
        "    # fig.write_image(filename + '.png') Do not use png in your code this is only an example to compare png to vector images\n",
        "    if fig_show:\n",
        "        fig.show()"
      ]
    },
    {
      "cell_type": "code",
      "execution_count": null,
      "metadata": {
        "id": "AWwhvaQGFraz"
      },
      "outputs": [],
      "source": [
        "x_title = \"Time\"\n",
        "y_title = \"Demand (kW)\"\n",
        "line_name = [\"Demand\"]\n",
        "line_color = [\"deepskyblue\"]\n",
        "for i in range (0,len(month)):\n",
        "    x_data = [month[i].Timestamp]\n",
        "    y_data = [month[i].Demand]\n",
        "    title = month_title[i]\n",
        "    filename = filename_list[i]\n",
        "    plot_graph(x_data, y_data, line_name, title, x_title, y_title, filename, line_color)"
      ]
    },
    {
      "cell_type": "markdown",
      "source": [
        "PUNEET GRAPH PLOTTINGs"
      ],
      "metadata": {
        "id": "j8fxzC6sKc3v"
      }
    },
    {
      "cell_type": "code",
      "source": [
        "import pandas as pd\n",
        "import plotly.graph_objects as go\n",
        "import os\n",
        "\n",
        "def plot_graph(dataframe, x_data, y_data_list, line_name_list, title, x_title, y_title, filename, line_color_list, fig_show = False):\n",
        "    # Define the figure\n",
        "    fig = go.Figure()\n",
        "    # Add data to figure\n",
        "    for i in range(len(y_data_list)):\n",
        "        # Exclude the null values from plotting\n",
        "        dataframe_to_plot = dataframe[dataframe[y_data_list[i]].notna()]\n",
        "        fig.add_trace(go.Scatter(x=dataframe_to_plot[x_data], y=dataframe_to_plot[y_data_list[i]], name=line_name_list[i], line_color=line_color_list[i]))\n",
        "\n",
        "    # Create Layout for the Html\n",
        "    fig.update_layout(\n",
        "        title=go.layout.Title(\n",
        "            text= title,\n",
        "            xref=\"paper\",\n",
        "            x=0.5\n",
        "        ),\n",
        "        xaxis=go.layout.XAxis(\n",
        "            title=go.layout.xaxis.Title(\n",
        "                text=x_title,\n",
        "            ),\n",
        "            rangeslider=dict(\n",
        "                visible=True\n",
        "            )\n",
        "        ),\n",
        "        yaxis=go.layout.YAxis(\n",
        "            title=go.layout.yaxis.Title(\n",
        "                text=y_title,\n",
        "            ),\n",
        "            tickvals=[0, 1],\n",
        "            ticktext=[\"False\", \"True\"],\n",
        "            range=[0,1]  # Set y-axis to range from False to True only\n",
        "        )\n",
        "    )\n",
        "\n",
        "    fig.write_html((filename + '.html'), include_mathjax='cdn')\n",
        "    if fig_show:\n",
        "        fig.show()\n",
        "\n",
        "# Read data from CSV\n",
        "df = pd.read_csv('/content/drive/MyDrive/CERT/Pump_Running_Status (2020-04-01 to 11-1).csv')\n",
        "\n",
        "# Convert the 'DateTime' column to datetime\n",
        "df['DateTime'] = pd.to_datetime(df['DateTime'])\n",
        "\n",
        "y_data_list = [\"CC968 P1 Run\", \"CC968 P2 Run\", \"CC968 P3 Run\", \"GL968 P1 Run\", \"GL968 P2 Run\", \"GL968 P3 Run\", \"MW968 P1 Run\", \"MW968 P2 Run\"]  # add or modify as needed\n",
        "\n",
        "# Group the data by month\n",
        "df.set_index('DateTime', inplace=True)\n",
        "groups = df.groupby(pd.Grouper(freq='M'))\n",
        "\n",
        "# Change the directory to where you want to save the plots\n",
        "os.chdir(\"/content/drive/MyDrive/CERT/Newer3\")\n",
        "\n",
        "# Generate a plot for each month\n",
        "month_counter = 1  # Initialize the month counter\n",
        "for name, group in groups:\n",
        "    month = name.strftime('%b%Y')\n",
        "    x_data = 'DateTime'\n",
        "    line_name_list = [\"CC968 P1 Run\", \"CC968 P2 Run\", \"CC968 P3 Run\", \"GL968 P1 Run\", \"GL968 P2 Run\", \"GL968 P3 Run\", \"MW968 P1 Run\", \"MW968 P2 Run\"]  # add or modify as needed\n",
        "    title = 'SCADA Glendale Pumps | Running Status:' + month\n",
        "    x_title = \"Timestamp\"\n",
        "    y_title = \"Off/On\"\n",
        "    filename = f'{month_counter}_Glendale_PumpRunStatus_{month}'\n",
        "    line_color_list = [\"deepskyblue\", \"red\", \"green\", \"purple\", \"orange\", \"pink\", \"yellow\", \"brown\"]  # add or modify as needed\n",
        "    plot_graph(group.reset_index(), x_data, y_data_list, line_name_list, title, x_title, y_title, filename, line_color_list)\n",
        "    month_counter += 1  # Increment the month counter after each loop\n"
      ],
      "metadata": {
        "id": "wrg1602JKboI"
      },
      "execution_count": null,
      "outputs": []
    },
    {
      "cell_type": "code",
      "source": [
        "from google.colab import drive\n",
        "drive.mount('/content/drive')"
      ],
      "metadata": {
        "colab": {
          "base_uri": "https://localhost:8080/"
        },
        "id": "Z_TH3qLyLDqe",
        "outputId": "ab1fb99e-d06f-4cca-e8c7-d924e88cccaa"
      },
      "execution_count": 1,
      "outputs": [
        {
          "output_type": "stream",
          "name": "stdout",
          "text": [
            "Mounted at /content/drive\n"
          ]
        }
      ]
    },
    {
      "cell_type": "markdown",
      "source": [
        "Pump Running Digital Input:"
      ],
      "metadata": {
        "id": "e5ejmluJaoNr"
      }
    },
    {
      "cell_type": "code",
      "source": [
        "import pandas as pd\n",
        "import plotly.graph_objects as go\n",
        "import os\n",
        "\n",
        "def plot_graph(dataframe, x_data, y_data_list, line_name_list, title, x_title, y_title, filename, line_color_list, fig_show = False):\n",
        "    # Define the figure\n",
        "    fig = go.Figure()\n",
        "    # Add data to figure\n",
        "    for i in range(len(y_data_list)):\n",
        "        # Exclude the null values from plotting\n",
        "        dataframe_to_plot = dataframe[dataframe[y_data_list[i]].notna()]\n",
        "        fig.add_trace(go.Scatter(x=dataframe_to_plot[x_data], y=dataframe_to_plot[y_data_list[i]], name=line_name_list[i], line_color=line_color_list[i]))\n",
        "\n",
        "    # Create Layout for the Html\n",
        "    fig.update_layout(\n",
        "        title=go.layout.Title(\n",
        "            text= title,\n",
        "            xref=\"paper\",\n",
        "            x=0.5\n",
        "        ),\n",
        "        xaxis=go.layout.XAxis(\n",
        "            title=go.layout.xaxis.Title(\n",
        "                text=x_title,\n",
        "            ),\n",
        "            rangeslider=dict(\n",
        "                visible=True\n",
        "            )\n",
        "        ),\n",
        "        yaxis=go.layout.YAxis(\n",
        "            title=go.layout.yaxis.Title(\n",
        "                text=y_title,\n",
        "            ),\n",
        "            tickvals=[0, 1],\n",
        "            ticktext=[\"False\", \"True\"],\n",
        "            range=[0,1]  # Set y-axis to range from False to True only\n",
        "        )\n",
        "    )\n",
        "\n",
        "    fig.write_html((filename + '.html'), include_mathjax='cdn')\n",
        "    if fig_show:\n",
        "        fig.show()\n",
        "\n",
        "# Read data from CSV\n",
        "df = pd.read_excel('/content/drive/MyDrive/CERT/Pump running digital/Pump_Running_Digital_Input (2023.06.08).xlsx')\n",
        "\n",
        "# Convert the 'DateTime' column to datetime\n",
        "df['DateTime'] = pd.to_datetime(df['DateTime'])\n",
        "\n",
        "# Modify this list to match your new column names\n",
        "y_data_list = [\"CC968 Pump 1\", \"CC968 Pump 2\", \"CC968 Pump 3\", \"GL968 Pump 1\", \"GL968 Pump 2\", \"GL968 Pump 3\", \"MW968 Pump 1\", \"MW968 Pump 2\"]\n",
        "\n",
        "# Group the data by month\n",
        "df.set_index('DateTime', inplace=True)\n",
        "groups = df.groupby(pd.Grouper(freq='M'))\n",
        "\n",
        "# Change the directory to where you want to save the plots\n",
        "os.chdir(\"/content/drive/MyDrive/CERT/Pump running digital/PlotA\")\n",
        "\n",
        "# Generate a plot for each month\n",
        "month_counter = 1  # Initialize the month counter\n",
        "for name, group in groups:\n",
        "    month = name.strftime('%b%Y')\n",
        "    x_data = 'DateTime'\n",
        "    # This should also match your new column names\n",
        "    line_name_list = [\"CC968 Pump 1\", \"CC968 Pump 2\", \"CC968 Pump 3\", \"GL968 Pump 1\", \"GL968 Pump 2\", \"GL968 Pump 3\", \"MW968 Pump 1\", \"MW968 Pump 2\"]\n",
        "    title = 'SCADA Glendale Pumps | Running Status:' + month\n",
        "    x_title = \"Timestamp\"\n",
        "    y_title = \"Off/On\"\n",
        "    filename = f'{month_counter}_Glendale_PumpRunStatus_{month}'\n",
        "    line_color_list = [\"deepskyblue\", \"red\", \"green\", \"purple\", \"orange\", \"pink\", \"yellow\", \"brown\"]\n",
        "    plot_graph(group.reset_index(), x_data, y_data_list, line_name_list, title, x_title, y_title, filename, line_color_list)\n",
        "    month_counter += 1  # Increment the month counter after each loop"
      ],
      "metadata": {
        "id": "oaJq8sUSKWBF"
      },
      "execution_count": 7,
      "outputs": []
    },
    {
      "cell_type": "markdown",
      "source": [
        "Reservoir Selected level:"
      ],
      "metadata": {
        "id": "-taYd7Qka2VZ"
      }
    },
    {
      "cell_type": "code",
      "source": [
        "import pandas as pd\n",
        "import plotly.graph_objects as go\n",
        "import os\n",
        "\n",
        "def plot_graph(dataframe, x_data, y_data_list, line_name_list, title, x_title, y_title, filename, line_color_list, fig_show = False):\n",
        "    # Define the figure\n",
        "    fig = go.Figure()\n",
        "    # Add data to figure\n",
        "    for i in range(len(y_data_list)):\n",
        "        # Exclude the null values from plotting\n",
        "        dataframe_to_plot = dataframe[dataframe[y_data_list[i]].notna()]\n",
        "        fig.add_trace(go.Scatter(x=dataframe_to_plot[x_data], y=dataframe_to_plot[y_data_list[i]], name=line_name_list[i], line_color=line_color_list[i]))\n",
        "\n",
        "    # Create Layout for the Html\n",
        "    fig.update_layout(\n",
        "        title=go.layout.Title(\n",
        "            text= title,\n",
        "            xref=\"paper\",\n",
        "            x=0.5\n",
        "        ),\n",
        "        xaxis=go.layout.XAxis(\n",
        "            title=go.layout.xaxis.Title(\n",
        "                text=x_title,\n",
        "            ),\n",
        "            rangeslider=dict(\n",
        "                visible=True\n",
        "            )\n",
        "        ),\n",
        "        yaxis=go.layout.YAxis(\n",
        "            title=go.layout.yaxis.Title(\n",
        "                text=y_title,\n",
        "            ),\n",
        "            # Let Plotly auto-calculate y-axis range as it's now continuous not binary\n",
        "        )\n",
        "    )\n",
        "\n",
        "    fig.write_html((filename + '.html'), include_mathjax='cdn')\n",
        "    if fig_show:\n",
        "        fig.show()\n",
        "\n",
        "# Read data from Excel\n",
        "df = pd.read_excel('/content/drive/MyDrive/CERT/Reservoir Selected Level/Reservoir_SelectedLevel (2023.06.08).xlsx')\n",
        "\n",
        "# Convert the 'DateTime' column to datetime\n",
        "df['DateTime'] = pd.to_datetime(df['DateTime'])\n",
        "\n",
        "# Modify this list to match your new column names\n",
        "y_data_list = [\"CC1290\", \"MW968\", \"PM1290\", \"RMR1290\"]\n",
        "\n",
        "# Group the data by month\n",
        "df.set_index('DateTime', inplace=True)\n",
        "groups = df.groupby(pd.Grouper(freq='M'))\n",
        "\n",
        "# Change the directory to where you want to save the plots\n",
        "os.chdir(\"/content/drive/MyDrive/CERT/Reservoir Selected Level/PlotA\")\n",
        "\n",
        "# Generate a plot for each month\n",
        "month_counter = 1  # Initialize the month counter\n",
        "for name, group in groups:\n",
        "    month = name.strftime('%b%Y')\n",
        "    x_data = 'DateTime'\n",
        "    # This should also match your new column names\n",
        "    line_name_list = [\"CC1290\", \"MW968\", \"PM1290\", \"RMR1290\"]\n",
        "    title = 'Reservoir Water Levels:' + month\n",
        "    x_title = \"Timestamp\"\n",
        "    y_title = \"Reservoir Water Level (in Feet)\"\n",
        "    filename = f'{month_counter}_Reservoir_WaterLevels_{month}'\n",
        "    line_color_list = [\"deepskyblue\", \"red\", \"green\", \"purple\"]\n",
        "    plot_graph(group.reset_index(), x_data, y_data_list, line_name_list, title, x_title, y_title, filename, line_color_list)\n",
        "    month_counter += 1  # Increment the month counter after each loop"
      ],
      "metadata": {
        "id": "ywbOTDmAa6D2"
      },
      "execution_count": 9,
      "outputs": []
    },
    {
      "cell_type": "markdown",
      "source": [
        "Forward Flow Analog Input:"
      ],
      "metadata": {
        "id": "Fxqp8oaCnFc2"
      }
    },
    {
      "cell_type": "code",
      "source": [
        "import pandas as pd\n",
        "import plotly.graph_objects as go\n",
        "import os\n",
        "\n",
        "def plot_graph(dataframe, x_data, y_data_list, line_name_list, title, x_title, y_title, filename, line_color_list, fig_show = False):\n",
        "    # Define the figure\n",
        "    fig = go.Figure()\n",
        "    # Add data to figure\n",
        "    for i in range(len(y_data_list)):\n",
        "        # Exclude the null values from plotting\n",
        "        dataframe_to_plot = dataframe[dataframe[y_data_list[i]].notna()]\n",
        "        fig.add_trace(go.Scatter(x=dataframe_to_plot[x_data], y=dataframe_to_plot[y_data_list[i]], name=line_name_list[i], line_color=line_color_list[i]))\n",
        "\n",
        "    # Create Layout for the Html\n",
        "    fig.update_layout(\n",
        "        title=go.layout.Title(\n",
        "            text= title,\n",
        "            xref=\"paper\",\n",
        "            x=0.5\n",
        "        ),\n",
        "        xaxis=go.layout.XAxis(\n",
        "            title=go.layout.xaxis.Title(\n",
        "                text=x_title,\n",
        "            ),\n",
        "            rangeslider=dict(\n",
        "                visible=True\n",
        "            )\n",
        "        ),\n",
        "        yaxis=go.layout.YAxis(\n",
        "            title=go.layout.yaxis.Title(\n",
        "                text=y_title,\n",
        "            ),\n",
        "            # Let Plotly auto-calculate y-axis range as it's now continuous not binary\n",
        "        )\n",
        "    )\n",
        "\n",
        "    fig.write_html((filename + '.html'), include_mathjax='cdn')\n",
        "    if fig_show:\n",
        "        fig.show()\n",
        "\n",
        "# Read data from Excel\n",
        "df = pd.read_excel('/content/drive/MyDrive/CERT/Forward Flow Analog Input/Forward_Flow_Analog_Input (2023.06.08).xlsx')\n",
        "\n",
        "# Convert the 'DateTime' column to datetime\n",
        "df['DateTime'] = pd.to_datetime(df['DateTime'])\n",
        "\n",
        "# Modify this list to match your new column names\n",
        "y_data_list = [\"CC968\", \"MW968\"]\n",
        "\n",
        "# Group the data by month\n",
        "df.set_index('DateTime', inplace=True)\n",
        "groups = df.groupby(pd.Grouper(freq='M'))\n",
        "\n",
        "# Change the directory to where you want to save the plots\n",
        "os.chdir(\"/content/drive/MyDrive/CERT/Forward Flow Analog Input/Graph plot\")\n",
        "\n",
        "# Generate a plot for each month\n",
        "month_counter = 1  # Initialize the month counter\n",
        "for name, group in groups:\n",
        "    month = name.strftime('%b%Y')\n",
        "    x_data = 'DateTime'\n",
        "    # This should also match your new column names\n",
        "    line_name_list = [\"CC968\", \"MW968\"]\n",
        "    title = 'Pump Station Discharge Flow Rates:' + month\n",
        "    x_title = \"Timestamp\"\n",
        "    y_title = \"Pump Station Discharge Flow Rate (in GPM)\"\n",
        "    filename = f'{month_counter}_PumpStation_FlowRates_{month}'\n",
        "    line_color_list = [\"deepskyblue\", \"red\"]\n",
        "    plot_graph(group.reset_index(), x_data, y_data_list, line_name_list, title, x_title, y_title, filename, line_color_list)\n",
        "    month_counter += 1  # Increment the month counter after each loop"
      ],
      "metadata": {
        "id": "cXGLL2Dfng_G"
      },
      "execution_count": 2,
      "outputs": []
    }
  ],
  "metadata": {
    "kernelspec": {
      "display_name": "Python 3",
      "language": "python",
      "name": "python3"
    },
    "language_info": {
      "codemirror_mode": {
        "name": "ipython",
        "version": 3
      },
      "file_extension": ".py",
      "mimetype": "text/x-python",
      "name": "python",
      "nbconvert_exporter": "python",
      "pygments_lexer": "ipython3",
      "version": "3.7.6"
    },
    "colab": {
      "provenance": []
    }
  },
  "nbformat": 4,
  "nbformat_minor": 0
}